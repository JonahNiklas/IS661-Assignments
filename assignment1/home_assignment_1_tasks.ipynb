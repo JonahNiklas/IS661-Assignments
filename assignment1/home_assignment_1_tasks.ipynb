{
 "cells": [
  {
   "cell_type": "markdown",
   "id": "c295abce",
   "metadata": {},
   "source": [
    "Text Analytics I HWS 23/24\n",
    "\n",
    "# Home Assignment 1 (35 pts)\n",
    "\n"
   ]
  },
  {
   "cell_type": "markdown",
   "id": "f6c27e5d",
   "metadata": {},
   "source": [
    "Submit your solution via Ilias until 23.59h on Wednesday, October 4th. Late submissions are accepted until 12:00am on the following day, with 1/4 of the total possible points deducted from the score.\n",
    "\n",
    "Submit your solutions in teams of 3-4 students. Unless explicitly agreed otherwise in advance, **submissions from teams with more or less members will NOT be graded**.\n",
    "List all members of the team with their student ID in the cell below, and submit only one notebook per team. Only submit a notebook, do not submit the dataset(s) you used. Also, do NOT compress/zip your submission!\n",
    "\n",
    "You may use the code from the exercises and basic functionalities that are explained in official documentation of Python packages without citing, __all other sources must be cited__. In case of plagiarism (copying solutions from other teams or from the internet) ALL team members may be expelled from the course without warning."
   ]
  },
  {
   "cell_type": "markdown",
   "id": "56b570d3",
   "metadata": {},
   "source": [
    "#### General guidelines:\n",
    "* Make sure that your code is executable, any task for which the code does not directly run on our machine will be graded with 0 points.\n",
    "* If you use packages that are not available on the default or conda-forge channel, list them below. Also add a link to installation instructions. \n",
    "* Ensure that the notebook does not rely on the current notebook or system state!\n",
    "  * Use `Kernel --> Restart & Run All` to see if you are using any definitions, variables etc. that \n",
    "    are not in scope anymore.\n",
    "  * Do not rename any of the datasets you use, and load it from the same directory that your ipynb-notebook is located in, i.e., your working directory.\n",
    "* Make sure you clean up your code before submission, e.g., properly align your code, and delete every line of code that you do not need anymore, even if you may have experimented with it. Minimize usage of global variables. Avoid reusing variable names multiple times!\n",
    "* Ensure your code/notebook terminates in reasonable time.\n",
    "* Feel free to use comments in the code. While we do not require them to get full marks, they may help us in case your code has minor errors.\n",
    "* For questions that require a textual answer, please do not write the answer as a comment in a code cell, but in a Markdown cell below the code. Always remember to provide sufficient justification for all answers.\n",
    "* You may create as many additional cells as you want, just make sure that the solutions to the individual tasks can be found near the corresponding assignment.\n",
    "* If you have any general question regarding the understanding of some task, do not hesitate to post in the student forum in Ilias, so we can clear up such questions for all students in the course."
   ]
  },
  {
   "cell_type": "code",
   "execution_count": 1,
   "id": "04d29726",
   "metadata": {},
   "outputs": [],
   "source": [
    "# studentIDs of all team members\n",
    "team_members = [12345,67899,880800,234242]"
   ]
  },
  {
   "cell_type": "markdown",
   "id": "45fedefd",
   "metadata": {},
   "source": [
    "Additional packages (if any):\n",
    " - Example: `powerlaw`, https://github.com/jeffalstott/powerlaw"
   ]
  },
  {
   "cell_type": "code",
   "execution_count": 1,
   "id": "1c2c397d",
   "metadata": {},
   "outputs": [],
   "source": [
    "from typing import List, Union, Dict, Set, Tuple\n",
    "import numpy as np\n",
    "from numpy.typing import NDArray"
   ]
  },
  {
   "cell_type": "markdown",
   "id": "07b9f30f",
   "metadata": {},
   "source": [
    "### Task 1: Regular expressions (9 pts)\n",
    "In this task you are asked to create regular expressions that meet the specified conditions. Please use the ``re`` package for the following subtasks."
   ]
  },
  {
   "cell_type": "code",
   "execution_count": 2,
   "id": "20076392",
   "metadata": {},
   "outputs": [],
   "source": [
    "# import the re package \n",
    "import re"
   ]
  },
  {
   "cell_type": "markdown",
   "id": "c83245d4",
   "metadata": {},
   "source": [
    "__a)__ Write a regular expression that returns all integer numbers from a text that are surrounded by whitespaces. __(1 pt)__ "
   ]
  },
  {
   "cell_type": "code",
   "execution_count": 3,
   "id": "1623b9a9",
   "metadata": {},
   "outputs": [
    {
     "name": "stdout",
     "output_type": "stream",
     "text": [
      "['9', '3']\n"
     ]
    }
   ],
   "source": [
    "# your code here\n",
    "\n",
    "s1 = \"hello 9 jdie2324 di 3 dewd 200\"\n",
    "\n",
    "result = re.findall(r'\\s(\\d+)\\s', s1)\n",
    "\n",
    "print(result)"
   ]
  },
  {
   "cell_type": "markdown",
   "id": "268f05db",
   "metadata": {},
   "source": [
    "__b)__ Write a regular expression that returns all valid years that are surrounded by whitespaces in a text. A valid year is a 4 digit number in the range from 0000 to 2022. __(2 pts)__  \n",
    "You do not need to account for overlaps, e.g., `' 2023 2024 ' => [2023]` is ok. Bonus points if you do so (`' 2023 2024 ' => [2023,2024]`). __(+2 pts)__"
   ]
  },
  {
   "cell_type": "code",
   "execution_count": 4,
   "id": "d97f7592",
   "metadata": {},
   "outputs": [
    {
     "name": "stdout",
     "output_type": "stream",
     "text": [
      "['0000', '1110', '1234', '1998']\n"
     ]
    }
   ],
   "source": [
    "# your code here\n",
    "\n",
    "s1 = \" 0000 1110 1234 1998 \"\n",
    "\n",
    "result = re.findall(r'\\b([0-1]\\d{3}|20[0-1]\\d{1}|202[0-2])\\b', s1) # -> wrong #0000~1999 #2000~2019 #2020~2022\n",
    "\n",
    "print(result)"
   ]
  },
  {
   "cell_type": "markdown",
   "id": "1ea7b9ad",
   "metadata": {},
   "source": [
    "__c)__ Write a regular expression that returns all dates in the format YYYY-MM-DD or YYYY/MM/DD from a given text. Make sure that YYYY is a valid year (see task __b)__), MM is a valid month (01 to 12) and DD is a valid day (01 to 31).\n",
    "There is no need to make sure that e.g. XXXX-02-31 does not exist.  __(2 pts)__"
   ]
  },
  {
   "cell_type": "code",
   "execution_count": 5,
   "id": "fecd3a05",
   "metadata": {},
   "outputs": [
    {
     "name": "stdout",
     "output_type": "stream",
     "text": [
      "['2022-05-12', '2012/05/31']\n"
     ]
    }
   ],
   "source": [
    "# your code here\n",
    "\n",
    "s1 = \"2022-05-12 and 2012/05/31\"\n",
    "\n",
    "patterns = re.findall(r'(\\b([0-1]\\d{3}|20[0-1]\\d{1}|202[0-2])[-/](0[1-9]|1[0-2])[-/](0[1-9]|[12][0-9]|3[01])\\b)', s1)\n",
    "patterns_list = [pattern[0] for pattern in patterns]\n",
    "\n",
    "print(patterns_list)"
   ]
  },
  {
   "cell_type": "markdown",
   "id": "a035a263",
   "metadata": {},
   "source": [
    "__d)__ Assume you are given a list ``l`` of strings like the one below. Using regular expressions, return a list that contains all elements from ``l`` that don't contain both, the letter ``a`` and ``e`` and store the result in a variable ``l_filtered``.  __(2 pts)__\n",
    "\n",
    "__Example:__ _given the list_  \n",
    "\n",
    "``l = [\"apple\", \"cucumber\", \"tomato\", \"zucchini\", \"pumpkin\", \"pear\", \"raspberry\", \"blueberry\"]``  \n",
    "\n",
    "_you should return_  \n",
    "\n",
    "``l_filtered = ['cucumber', 'tomato', 'zucchini', 'pumpkin', 'blueberry']``."
   ]
  },
  {
   "cell_type": "code",
   "execution_count": 6,
   "id": "47106934",
   "metadata": {},
   "outputs": [],
   "source": [
    "# example list\n",
    "l = [\"apple\", \"cucumber\", \"tomato\", \"zucchini\", \"pumpkin\", \"pear\", \"raspberry\", \"blueberry\"]"
   ]
  },
  {
   "cell_type": "code",
   "execution_count": 7,
   "id": "d1325041",
   "metadata": {},
   "outputs": [
    {
     "name": "stdout",
     "output_type": "stream",
     "text": [
      "['cucumber', 'tomato', 'zucchini', 'pumpkin', 'blueberry']\n"
     ]
    }
   ],
   "source": [
    "# your code here\n",
    "\n",
    "l_filtered = [w for w in l if not re.search(r'\\b(?=\\w*a)(?=\\w*e)\\w+\\b', w)] #\\w+ -> matches one or more word characters, ensuring that the word contains both 'a' and 'e'\n",
    "\n",
    "print(l_filtered)"
   ]
  },
  {
   "cell_type": "markdown",
   "id": "b905ecc7",
   "metadata": {},
   "source": [
    "__e)__ For the given string ``s`` with 4 lines, change the _whole_ word ``pot`` (i.e. ``pottery`` should not be changed) to ``1234`` only if it is at the start of a line.  __(2 pts)__"
   ]
  },
  {
   "cell_type": "code",
   "execution_count": 8,
   "id": "966e2b00",
   "metadata": {},
   "outputs": [],
   "source": [
    "s = '''\\\n",
    "pottery clot pot \n",
    "pot dot plot hot\n",
    "spot rot pot got\n",
    "not shot forgot'''"
   ]
  },
  {
   "cell_type": "code",
   "execution_count": 9,
   "id": "50f05f6e",
   "metadata": {},
   "outputs": [
    {
     "name": "stdout",
     "output_type": "stream",
     "text": [
      "pottery clot pot \n",
      "1234 dot plot hot\n",
      "spot rot pot got\n",
      "not shot forgot\n"
     ]
    }
   ],
   "source": [
    "# your code here\n",
    "\n",
    "lines_list = s.split('\\n')\n",
    "result = re.sub(r'^pot\\b', '1234', s, flags=re.MULTILINE)\n",
    "\n",
    "print(result)"
   ]
  },
  {
   "cell_type": "markdown",
   "id": "be8e4d62",
   "metadata": {},
   "source": [
    "### Task 2: Finding the most similar word (18 pts)\n",
    "The goal of this task is, given a corpus, to find the most similar word for a provided word. As an example we will consider the King James Bible that is is included in the ``gutenberg`` corpus and we are looking to find the word that is most similar to ``god``. We consider two words similar if they appear in the same word context."
   ]
  },
  {
   "cell_type": "markdown",
   "id": "4036fc75",
   "metadata": {},
   "source": [
    "__a) Cleaning the input (3 pts)__\n",
    "\n",
    "Write a function that, given a list of tokens, returns a list of tokens that we consider valid for our task. Moreover, all input tokens should be converted to lower case.\n",
    "\n",
    "An *invalid* token is a token that \n",
    "- is a punctuation mark (consider `string.punctuation`).\n",
    "- is entirely numeric digits (e.g. `\"123\"`)\n",
    "- optionally, if `remove_stopwords=True` then stopwords in the English language are also not considered valid tokens (use nltk's stopwords). \n",
    "\n",
    "Use the function signature specified in the cell below."
   ]
  },
  {
   "cell_type": "code",
   "execution_count": 10,
   "id": "975b8007",
   "metadata": {},
   "outputs": [
    {
     "name": "stderr",
     "output_type": "stream",
     "text": [
      "[nltk_data] Downloading package stopwords to\n",
      "[nltk_data]     /Users/yinhsuan/nltk_data...\n",
      "[nltk_data]   Package stopwords is already up-to-date!\n"
     ]
    }
   ],
   "source": [
    "import nltk\n",
    "from nltk.corpus.reader.util import StreamBackedCorpusView \n",
    "\n",
    "import string\n",
    "from typing import List, Union\n",
    "from nltk.corpus import stopwords\n",
    "\n",
    "nltk.download('stopwords')\n",
    "\n",
    "def get_valid_tokens(tokens: Union[List[str], StreamBackedCorpusView], remove_stopwords: bool=False) -> List[str]:\n",
    "    \"\"\"\n",
    "    :param tokens: list of tokens that should be cleaned\n",
    "    :param remove_stopwords: bool indicating if stopwords should be removed \n",
    "                             False by default\n",
    "    :return: list of valid tokens\n",
    "    \"\"\"\n",
    "    # your code here\n",
    "\n",
    "    # Convert input tokens to lowercase\n",
    "    tokens = [token.lower() for token in tokens]\n",
    "\n",
    "    # Define a set of stopwords if remove_stopwords is True\n",
    "    if remove_stopwords:\n",
    "        stop_words = set(stopwords.words('english')) \n",
    "    else:\n",
    "        stop_words = set()\n",
    "\n",
    "    valid_tokens = []\n",
    "\n",
    "    for token in tokens:\n",
    "        # Check if the token is entirely numeric\n",
    "        if token.isnumeric():\n",
    "            continue  # Skip numeric tokens\n",
    "\n",
    "        # Check if the token is a punctuation mark\n",
    "        if all(char in string.punctuation for char in token):\n",
    "            continue  # Skip punctuation tokens\n",
    "\n",
    "        # Check if the token is a stopword (if remove_stopwords is True)\n",
    "        if remove_stopwords and token in stop_words:\n",
    "            continue  # Skip stopwords\n",
    "\n",
    "        # If the token passed all checks, it's valid\n",
    "        valid_tokens.append(token)\n",
    "\n",
    "    return valid_tokens"
   ]
  },
  {
   "cell_type": "markdown",
   "id": "81184587",
   "metadata": {},
   "source": [
    "__b) Counting the surroundings (6 pts)__\n",
    "\n",
    "In our simple model of word similarity we consider words as similar if they are being used in the same context (i.e. they have similar words surrounding them). \n",
    "\n",
    "Implement a function that, given a list of words, returns the count of all words in a designated word's surrounding. The context size indicates how many words to the left and right we consider, i.e. a context size of 1 indicates that we only consider the words immediately before and after a central word to be in its context. \n",
    "\n",
    "Your function should return a dictionary which maps each word $w$ from the input list to a dictionary. The inner dictionary should map each word that appears in the context of the central word $w$ to a number that indicates how often it appears in the context of $w$.\n",
    "\n",
    "Make sure your implementation has linear complexity in the vocabulary / corpus length. Use the function signature specified in the cell below.\n",
    "\n",
    "__Hint:__ Instead of the inner dictionary you can alternatively use `Counter` or `defaultdict` which can be found in the Python module `collections`. Moreover, consider the function ``ngrams`` from ``nltk``.\n",
    "\n",
    "__Example:__ _For the input_\n",
    "`['hi', 'james', 'how', 'are', 'you', 'hello', 'catherine', 'how', 'are', 'you']` _and_ `context_size=1`\n",
    "_we wish to obtain:_\n",
    "```\n",
    "{'hi': {'james': 1},\n",
    " 'james': {'hi': 1, 'how': 1},\n",
    " 'how': {'james': 1, 'are': 2, 'catherine': 1},\n",
    " 'are': {'how': 2, 'you': 2},\n",
    " 'you': {'are': 2, 'hello': 1},\n",
    " 'hello': {'you': 1, 'catherine': 1},\n",
    " 'catherine': {'hello': 1, 'how': 1}}\n",
    "```\n",
    "__Explanation:__ _The word_ `hi` _is only surrounded by_ `james`_. The word_ `james` _is surrounded by_ `hi` _and_ `how` _. The word_ `how` _is surrounded by_ `james`_, by_ `catherine` _and by_ `are` _twice, ..._\n",
    "\n",
    "_For_ `contextsize=2` _we obtain:_\n",
    "```\n",
    "{'hi': {'james': 1, 'how': 1},\n",
    "'james': {'hi': 1, 'how': 1, 'are': 1},\n",
    "'how': {'are': 2, 'you': 2, 'hi': 1, 'james': 1, 'hello': 1, 'catherine': 1},\n",
    "'are': {'how': 2, 'you': 2, 'james': 1, 'hello': 1, 'catherine': 1},\n",
    "'you': {'how': 2, 'are': 2, 'hello': 1, 'catherine': 1},\n",
    "'hello': {'are': 1, 'you': 1, 'catherine': 1, 'how': 1},\n",
    "'catherine': {'you': 1, 'hello': 1, 'how': 1, 'are': 1}}\n",
    "```"
   ]
  },
  {
   "cell_type": "code",
   "execution_count": 11,
   "id": "6a911633",
   "metadata": {},
   "outputs": [],
   "source": [
    "from typing import List, Dict, Union\n",
    "from collections import defaultdict\n",
    "from nltk.util import ngrams\n",
    "from nltk.corpus.reader.util import StreamBackedCorpusView\n",
    "import json\n",
    "\n",
    "def get_surrounding_counts(tokens: Union[List[str], StreamBackedCorpusView], context_size: int) -> Dict[str, Dict[str, int]]:\n",
    "    \"\"\"\n",
    "    :param tokens: list of tokens\n",
    "    :param context_size: integer that indicates the number of context words that are considered on both sides of the central word\n",
    "    :return: dict of dicts that holds the count of context words for each input token\n",
    "    \"\"\"\n",
    "    # your code here\n",
    "    \n",
    "    context_counts = {}\n",
    "    \n",
    "    for i, token in enumerate(tokens):\n",
    "        left_bound = max(i - context_size, 0)\n",
    "        right_bound = min(i + context_size + 1, len(tokens))\n",
    "        context = tokens[left_bound:i] + tokens[i+1:right_bound] #context: words at left side and right side\n",
    "\n",
    "        if token not in context_counts:\n",
    "            context_counts[token] = {}\n",
    "        \n",
    "        token_dict = context_counts[token]\n",
    "\n",
    "        for word in context:\n",
    "            if word in token_dict:\n",
    "                token_dict[word] += 1\n",
    "            else:\n",
    "                token_dict[word] = 1\n",
    "    \n",
    "    return context_counts"
   ]
  },
  {
   "cell_type": "markdown",
   "id": "841e226d",
   "metadata": {},
   "source": [
    "__c) Keeping the top $k$ words in context (2 pts)__\n",
    "\n",
    "To reduce the size of our result from task __b)__, we will only consider the most frequent context words for each token. Therefore, write a function that keeps only the $k$ most frequent words in the context of a designated word. Ties are resolved in lexicographic order (e.g. _**A**braham_ would be preferred to _**B**ethlehem_). The function should return a dictionary that maps each word in the outer dictionary to a __set__ of their top $k$ most frequent context words."
   ]
  },
  {
   "cell_type": "code",
   "execution_count": 12,
   "id": "106f0d69",
   "metadata": {},
   "outputs": [],
   "source": [
    "def to_sets(context_dict: Dict[str, Dict[str, int]], k: int) -> Dict[str, Set[str]]:\n",
    "    \"\"\"\n",
    "    :param context_dict: dict of dicts that holds the count of context words for each word\n",
    "    :param k: integer that specifies how many context words should be kept\n",
    "    :return: dict that maps each word to a set of its k most frequent context words\n",
    "    \"\"\"\n",
    "    # your code here\n",
    "    \n",
    "    result = {}\n",
    "    \n",
    "    for word, context_counts in context_dict.items():\n",
    "        # Sort context words by frequency in descending order and then lexicographically\n",
    "        sorted_context = sorted(context_counts.keys(), key=lambda x: (-context_counts[x], x))\n",
    "        \n",
    "        # Select the top k context words\n",
    "        top_k_context = sorted_context[:k]\n",
    "        \n",
    "        # Store the selected context words in a set\n",
    "        result[word] = set(top_k_context)\n",
    "    \n",
    "    return result"
   ]
  },
  {
   "cell_type": "markdown",
   "id": "fc84aa14",
   "metadata": {},
   "source": [
    "__d) Finding the most similar words (4 pts)__\n",
    "\n",
    "Given a dictionary as obtained in task __c)__ and a word $w$, we want to find the words that have the highest similarity to $w$ in terms of their context. We operationalize context similarity with the Jaccard index (https://en.wikipedia.org/wiki/Jaccard_index).\n",
    "The Jaccard index of two sets $A$ and $B$ (in our case the sets of context words) is defined as:\n",
    "\n",
    "$J(A, B) = \\frac{|A \\cap B|}{|A \\cup B|}$\n",
    "\n",
    "Write a function that returns the words that have the highest similarity to an input word $w$ (ignoring the input word itself). Since several words may have the same Jaccard similarity to the input word, your function should return the set of words that are most similar to $w$ and the respective value of the Jaccard similarity. Use the function signature specified in the cell below."
   ]
  },
  {
   "cell_type": "code",
   "execution_count": 13,
   "id": "860e680a",
   "metadata": {},
   "outputs": [],
   "source": [
    "def find_most_similar_words(input_word: str, contexts: Dict[str, Set[str]]) -> (Set[str], float):\n",
    "    \"\"\"\n",
    "    :param input_word: string that represents the word we are interested in\n",
    "    :param contexts: dict that maps each word to a set of its most frequent context words\n",
    "    :returns: \n",
    "        - set of the most similar words to the input word\n",
    "        - float that indicates the highest Jaccard similarity to the input word\n",
    "    \"\"\"\n",
    "    # your code here\n",
    "    \n",
    "    most_similar_words = set()  # Initialize an empty set to store the most similar words\n",
    "    highest_similarity = 0.0  # Initialize the highest Jaccard similarity\n",
    "    \n",
    "    # Get the context set for the input word\n",
    "    input_context = contexts.get(input_word, set())\n",
    "    \n",
    "    for word, context_set in contexts.items():\n",
    "        if word != input_word:  # Exclude the input word itself\n",
    "            # Calculate Jaccard similarity\n",
    "            intersection = len(input_context.intersection(context_set))\n",
    "            union = len(input_context.union(context_set))\n",
    "            similarity = intersection / union\n",
    "            \n",
    "            # Update most similar words and highest similarity\n",
    "            if similarity > highest_similarity:\n",
    "                most_similar_words = {word}\n",
    "                highest_similarity = similarity\n",
    "            elif similarity == highest_similarity:\n",
    "                most_similar_words.add(word)\n",
    "    \n",
    "    return most_similar_words, highest_similarity"
   ]
  },
  {
   "cell_type": "markdown",
   "id": "eca0214f",
   "metadata": {},
   "source": [
    "__e) Bringing it all together (3 pts)__\n",
    "\n",
    "Finally, we want to apply our functions to the King James Bible (`'bible-kjv.txt'`) that is part of the ``gutenberg`` corpus. We intend to find the word(s) that is (are) most similar to ``god``. Follow the steps below:\n",
    "\n",
    "i) Obtain a list of all tokens from the King James Bible and store it in a variable ``tokens``.  \n",
    "\n",
    "ii) Clean the list of tokens with your function from __a)__ to get the list of valid tokens (without removing stopwords) and store it in a variable ``valid_tokens``.  \n",
    "\n",
    "iii) Apply your function from __b)__ to count the context words for all valid tokens with a ``context_size`` of 2 and store the result in a variable ``context_counts``.  \n",
    "\n",
    "iv) Using your function from __c)__, keep only the 20 most frequent words in a valid tokens context and store the result in a variable ``context_words``.  \n",
    "\n",
    "v) Finally, find the most similar words to the word _god_ with your function from __d)__ and store the set of most similar words in the variable ``set_god`` and the highest Jaccard similarity in the variable ``sim_god``.  "
   ]
  },
  {
   "cell_type": "code",
   "execution_count": 14,
   "id": "8cfb84ee",
   "metadata": {},
   "outputs": [
    {
     "name": "stdout",
     "output_type": "stream",
     "text": [
      "Most similar words to 'god': {'father', 'lord'}\n",
      "Highest Jaccard similarity: 0.6\n"
     ]
    }
   ],
   "source": [
    "# your code here\n",
    "\n",
    "from nltk.corpus import gutenberg\n",
    "from typing import List\n",
    "\n",
    "# ----------------- i -----------------\n",
    "# Load the King James Bible\n",
    "file_id = 'bible-kjv.txt'\n",
    "tokens = gutenberg.words(file_id)\n",
    "\n",
    "# ----------------- ii -----------------\n",
    "# Call the get_valid_tokens function to obtain valid tokens\n",
    "valid_tokens = get_valid_tokens(tokens)\n",
    "\n",
    "# Print the first few valid tokens for inspection\n",
    "# print(\"Valid tokens:\", valid_tokens[:10])\n",
    "\n",
    "# ----------------- iii -----------------\n",
    "context_size = 2\n",
    "context_counts = get_surrounding_counts(valid_tokens, context_size)\n",
    "\n",
    "# ----------------- iv -----------------\n",
    "k = 20\n",
    "context_words = to_sets(context_counts, k)\n",
    "\n",
    "# ----------------- v -----------------\n",
    "input_word = \"god\"\n",
    "set_god, sim_god = find_most_similar_words(input_word, context_words)\n",
    "\n",
    "# Check if \"god\" was in the context_words dictionary\n",
    "if input_word not in context_words:\n",
    "    print(f\"'{input_word}' was not found in the context_words dictionary.\")\n",
    "\n",
    "# Print the most similar words and the highest Jaccard similarity\n",
    "print(f\"Most similar words to '{input_word}': {set_god}\")\n",
    "print(f\"Highest Jaccard similarity: {sim_god}\")"
   ]
  },
  {
   "cell_type": "markdown",
   "id": "c303e077",
   "metadata": {},
   "source": [
    "### Task 3: Minimum cost string alignment (8 pts)\n",
    "\n",
    "In this tak we want to compute an alignment between two strings, that has minimum edit distance. \n",
    "\n",
    "Implement a function that takes two strings and their edit distance matrix and returns a minimum cost alignment. You can assume that the edit distance matrix is provided by the function that you implemented in exercise 3, task 2, with a substitution cost of 2. \n",
    "\n",
    "A minimum cost alignment consists of two strings that, printed below each other comprise the alignment, where insertions and deletions are represented by a ``*``. Use the function signature in the cell below.\n",
    "\n",
    "__Example:__ _Given the input strings_ ``\"INTENTION\"`` _and_ ``\"EXECUTION\"`` _and the corresponding edit distance matrix:_\n",
    "\n",
    "``[[ 0  1  2  3  4  5  6  7  8  9]\n",
    " [ 1  2  3  4  5  6  7  6  7  8]\n",
    " [ 2  3  4  5  6  7  8  7  8  7]\n",
    " [ 3  4  5  6  7  8  7  8  9  8]\n",
    " [ 4  3  4  5  6  7  8  9 10  9]\n",
    " [ 5  4  5  6  7  8  9 10 11 10]\n",
    " [ 6  5  6  7  8  9  8  9 10 11]\n",
    " [ 7  6  7  8  9 10  9  8  9 10]\n",
    " [ 8  7  8  9 10 11 10  9  8  9]\n",
    " [ 9  8  9 10 11 12 11 10  9  8]]``,\n",
    "  \n",
    "_your function should return the two strings_ ``INTE***NTION`` _and_ ``***EXECUTION`` _that represent the alignment, when printed below each other:_\n",
    " \n",
    " ``INTE***NTION``    \n",
    " ``***EXECUTION`` \n",
    " \n",
    " __Remark:__ _The alignment in the example above is not the only solution. In this task all alignments with minimum edit distance are accepted._\n"
   ]
  },
  {
   "cell_type": "code",
   "execution_count": 15,
   "id": "11310289",
   "metadata": {},
   "outputs": [
    {
     "name": "stdout",
     "output_type": "stream",
     "text": [
      "**INTE**NTION\n",
      "EX***ECU*TION\n"
     ]
    }
   ],
   "source": [
    "def edit_distance(str1: str, str2: str, cost_of_substitute: int=2) -> (int, NDArray[NDArray[int]]):\n",
    "    '''\n",
    "    :param str1: source string \n",
    "    :param str2: target string\n",
    "    :cost_of_substitute: cost for substituting mismatching letters \n",
    "    :returns:\n",
    "        - minimum edit distance of str1 and str2\n",
    "        - minimum edit distance table\n",
    "    '''\n",
    "    I = len(str1) + 1  # +1 for hashtag symbol (empty string)\n",
    "    J = len(str2) + 1\n",
    "    D = np.zeros((I,J), dtype=int)\n",
    "    \n",
    "    # initialize first row and column\n",
    "    D[:,0] = np.arange(I)  # index 0 of all elements (first column)\n",
    "    D[0,:] = np.arange(J)  # all entries of element at index 0 (first row)\n",
    "    \n",
    "    for i in range(1,I):  # loop through rows\n",
    "        for j in range(1,J):  # loop through columns\n",
    "            sub = D[i-1, j-1] # init cost same letters\n",
    "            if str1[i-1] != str2[j-1]:\n",
    "                  sub += cost_of_substitute # not same letters\n",
    "            \n",
    "            D[i,j] = min(D[i-1,j] + 1, D[i,j-1] + 1, sub)  # new value\n",
    "            \n",
    "    return D[I-1,J-1], D\n",
    "\n",
    "def get_alignment(str1: str, str2: str, D: NDArray[NDArray[int]]) -> (str, str): \n",
    "    '''\n",
    "    :param str1: first string for alignment\n",
    "    :param str2: second string for alignment\n",
    "    :param D: edit distance matrix of str1 and str2\n",
    "    :returns: tuple of strings that indicate the alignment of the input strings\n",
    "    '''\n",
    "    # your code here\n",
    "\n",
    "    i, j = len(str1), len(str2)\n",
    "    alignment_str1 = \"\"\n",
    "    alignment_str2 = \"\"\n",
    "\n",
    "    while i > 0 or j > 0:\n",
    "        if i > 0 and j > 0 and str1[i - 1] == str2[j - 1]:\n",
    "            # No operation, characters are the same\n",
    "            alignment_str1 = str1[i - 1] + alignment_str1\n",
    "            alignment_str2 = str2[j - 1] + alignment_str2\n",
    "            i -= 1\n",
    "            j -= 1\n",
    "        elif i > 0 and D[i][j] == D[i - 1][j] + 1:\n",
    "            # Deletion\n",
    "            alignment_str1 = str1[i - 1] + alignment_str1\n",
    "            alignment_str2 = \"*\" + alignment_str2\n",
    "            i -= 1\n",
    "        elif j > 0 and D[i][j] == D[i][j - 1] + 1:\n",
    "            # Insertion\n",
    "            alignment_str1 = \"*\" + alignment_str1\n",
    "            alignment_str2 = str2[j - 1] + alignment_str2\n",
    "            j -= 1\n",
    "        else:\n",
    "            # Substitution\n",
    "            alignment_str1 = str1[i - 1] + alignment_str1\n",
    "            alignment_str2 = str2[j - 1] + alignment_str2\n",
    "            i -= 1\n",
    "            j -= 1\n",
    "\n",
    "    # Add asterisks to the beginning of alignment_str1 and alignment_str2 to match the example format\n",
    "    alignment_str1 = \"*\" * i + alignment_str1\n",
    "    alignment_str2 = \"*\" * j + alignment_str2\n",
    "\n",
    "    return alignment_str1, alignment_str2\n",
    "\n",
    "def find_minimum_alignment(str1: str, str2: str, cost_of_substitute: int=2):\n",
    "    cost, D = edit_distance(str1, str2, cost_of_substitute)\n",
    "    alignment_str1, alignment_str2 = get_alignment(str1, str2, D)\n",
    "    return alignment_str1, alignment_str2\n",
    "\n",
    "str1 = \"INTENTION\"\n",
    "str2 = \"EXECUTION\"\n",
    "alignment_str1, alignment_str2 = find_minimum_alignment(str1, str2)\n",
    "print(alignment_str1)\n",
    "print(alignment_str2)"
   ]
  },
  {
   "cell_type": "code",
   "execution_count": null,
   "id": "9e079add",
   "metadata": {},
   "outputs": [],
   "source": []
  }
 ],
 "metadata": {
  "kernelspec": {
   "display_name": "Python 3 (ipykernel)",
   "language": "python",
   "name": "python3"
  },
  "language_info": {
   "codemirror_mode": {
    "name": "ipython",
    "version": 3
   },
   "file_extension": ".py",
   "mimetype": "text/x-python",
   "name": "python",
   "nbconvert_exporter": "python",
   "pygments_lexer": "ipython3",
   "version": "3.11.5"
  }
 },
 "nbformat": 4,
 "nbformat_minor": 5
}
